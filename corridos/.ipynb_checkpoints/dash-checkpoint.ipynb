{
 "cells": [
  {
   "cell_type": "code",
   "execution_count": 1,
   "metadata": {},
   "outputs": [
    {
     "name": "stdout",
     "output_type": "stream",
     "text": [
      "Requirement already satisfied: jupyter-dash in c:\\users\\azg526\\anaconda3\\envs\\map\\lib\\site-packages (0.4.2)\n",
      "Requirement already satisfied: nest-asyncio in c:\\users\\azg526\\anaconda3\\envs\\map\\lib\\site-packages (from jupyter-dash) (1.5.5)\n",
      "Requirement already satisfied: ipython in c:\\users\\azg526\\anaconda3\\envs\\map\\lib\\site-packages (from jupyter-dash) (8.3.0)\n",
      "Requirement already satisfied: requests in c:\\users\\azg526\\anaconda3\\envs\\map\\lib\\site-packages (from jupyter-dash) (2.28.1)\n",
      "Requirement already satisfied: dash in c:\\users\\azg526\\anaconda3\\envs\\map\\lib\\site-packages (from jupyter-dash) (2.6.2)\n",
      "Requirement already satisfied: flask in c:\\users\\azg526\\anaconda3\\envs\\map\\lib\\site-packages (from jupyter-dash) (2.2.2)\n",
      "Requirement already satisfied: ipykernel in c:\\users\\azg526\\anaconda3\\envs\\map\\lib\\site-packages (from jupyter-dash) (6.9.1)\n",
      "Requirement already satisfied: retrying in c:\\users\\azg526\\anaconda3\\envs\\map\\lib\\site-packages (from jupyter-dash) (1.3.3)\n",
      "Requirement already satisfied: ansi2html in c:\\users\\azg526\\anaconda3\\envs\\map\\lib\\site-packages (from jupyter-dash) (1.8.0)\n",
      "Requirement already satisfied: dash-table==5.0.0 in c:\\users\\azg526\\anaconda3\\envs\\map\\lib\\site-packages (from dash->jupyter-dash) (5.0.0)\n",
      "Requirement already satisfied: flask-compress in c:\\users\\azg526\\anaconda3\\envs\\map\\lib\\site-packages (from dash->jupyter-dash) (1.13)\n",
      "Requirement already satisfied: dash-html-components==2.0.0 in c:\\users\\azg526\\anaconda3\\envs\\map\\lib\\site-packages (from dash->jupyter-dash) (2.0.0)\n",
      "Requirement already satisfied: plotly>=5.0.0 in c:\\users\\azg526\\anaconda3\\envs\\map\\lib\\site-packages (from dash->jupyter-dash) (5.9.0)\n",
      "Requirement already satisfied: dash-core-components==2.0.0 in c:\\users\\azg526\\anaconda3\\envs\\map\\lib\\site-packages (from dash->jupyter-dash) (2.0.0)\n",
      "Requirement already satisfied: importlib-metadata>=3.6.0 in c:\\users\\azg526\\anaconda3\\envs\\map\\lib\\site-packages (from flask->jupyter-dash) (5.0.0)\n",
      "Requirement already satisfied: Werkzeug>=2.2.2 in c:\\users\\azg526\\appdata\\roaming\\python\\python39\\site-packages (from flask->jupyter-dash) (2.2.2)\n",
      "Requirement already satisfied: itsdangerous>=2.0 in c:\\users\\azg526\\anaconda3\\envs\\map\\lib\\site-packages (from flask->jupyter-dash) (2.1.2)\n",
      "Requirement already satisfied: click>=8.0 in c:\\users\\azg526\\anaconda3\\envs\\map\\lib\\site-packages (from flask->jupyter-dash) (8.1.3)\n",
      "Requirement already satisfied: Jinja2>=3.0 in c:\\users\\azg526\\anaconda3\\envs\\map\\lib\\site-packages (from flask->jupyter-dash) (3.1.2)\n",
      "Requirement already satisfied: matplotlib-inline<0.2.0,>=0.1.0 in c:\\users\\azg526\\anaconda3\\envs\\map\\lib\\site-packages (from ipykernel->jupyter-dash) (0.1.2)\n",
      "Requirement already satisfied: debugpy<2.0,>=1.0.0 in c:\\users\\azg526\\anaconda3\\envs\\map\\lib\\site-packages (from ipykernel->jupyter-dash) (1.5.1)\n",
      "Requirement already satisfied: traitlets<6.0,>=5.1.0 in c:\\users\\azg526\\anaconda3\\envs\\map\\lib\\site-packages (from ipykernel->jupyter-dash) (5.1.1)\n",
      "Requirement already satisfied: tornado<7.0,>=4.2 in c:\\users\\azg526\\anaconda3\\envs\\map\\lib\\site-packages (from ipykernel->jupyter-dash) (6.1)\n",
      "Requirement already satisfied: jupyter-client<8.0 in c:\\users\\azg526\\anaconda3\\envs\\map\\lib\\site-packages (from ipykernel->jupyter-dash) (7.2.2)\n",
      "Requirement already satisfied: pickleshare in c:\\users\\azg526\\anaconda3\\envs\\map\\lib\\site-packages (from ipython->jupyter-dash) (0.7.5)\n",
      "Requirement already satisfied: jedi>=0.16 in c:\\users\\azg526\\anaconda3\\envs\\map\\lib\\site-packages (from ipython->jupyter-dash) (0.18.1)\n",
      "Requirement already satisfied: colorama in c:\\users\\azg526\\anaconda3\\envs\\map\\lib\\site-packages (from ipython->jupyter-dash) (0.4.6)\n",
      "Requirement already satisfied: stack-data in c:\\users\\azg526\\anaconda3\\envs\\map\\lib\\site-packages (from ipython->jupyter-dash) (0.2.0)\n",
      "Requirement already satisfied: decorator in c:\\users\\azg526\\anaconda3\\envs\\map\\lib\\site-packages (from ipython->jupyter-dash) (5.1.1)\n",
      "Requirement already satisfied: setuptools>=18.5 in c:\\users\\azg526\\anaconda3\\envs\\map\\lib\\site-packages (from ipython->jupyter-dash) (63.4.1)\n",
      "Requirement already satisfied: pygments>=2.4.0 in c:\\users\\azg526\\anaconda3\\envs\\map\\lib\\site-packages (from ipython->jupyter-dash) (2.13.0)\n",
      "Requirement already satisfied: prompt-toolkit!=3.0.0,!=3.0.1,<3.1.0,>=2.0.0 in c:\\users\\azg526\\anaconda3\\envs\\map\\lib\\site-packages (from ipython->jupyter-dash) (3.0.20)\n",
      "Note: you may need to restart the kernel to use updated packages.\n",
      "Requirement already satisfied: backcall in c:\\users\\azg526\\anaconda3\\envs\\map\\lib\\site-packages (from ipython->jupyter-dash) (0.2.0)\n",
      "Requirement already satisfied: charset-normalizer<3,>=2 in c:\\users\\azg526\\anaconda3\\envs\\map\\lib\\site-packages (from requests->jupyter-dash) (2.0.4)\n",
      "Requirement already satisfied: urllib3<1.27,>=1.21.1 in c:\\users\\azg526\\anaconda3\\envs\\map\\lib\\site-packages (from requests->jupyter-dash) (1.26.11)\n",
      "Requirement already satisfied: idna<4,>=2.5 in c:\\users\\azg526\\anaconda3\\envs\\map\\lib\\site-packages (from requests->jupyter-dash) (3.3)\n",
      "Requirement already satisfied: certifi>=2017.4.17 in c:\\users\\azg526\\anaconda3\\envs\\map\\lib\\site-packages (from requests->jupyter-dash) (2022.9.24)\n",
      "Requirement already satisfied: six>=1.7.0 in c:\\users\\azg526\\anaconda3\\envs\\map\\lib\\site-packages (from retrying->jupyter-dash) (1.16.0)\n",
      "Requirement already satisfied: zipp>=0.5 in c:\\users\\azg526\\anaconda3\\envs\\map\\lib\\site-packages (from importlib-metadata>=3.6.0->flask->jupyter-dash) (3.10.0)\n",
      "Requirement already satisfied: parso<0.9.0,>=0.8.0 in c:\\users\\azg526\\anaconda3\\envs\\map\\lib\\site-packages (from jedi>=0.16->ipython->jupyter-dash) (0.8.3)\n",
      "Requirement already satisfied: MarkupSafe>=2.0 in c:\\users\\azg526\\anaconda3\\envs\\map\\lib\\site-packages (from Jinja2>=3.0->flask->jupyter-dash) (2.1.1)\n",
      "Requirement already satisfied: pyzmq>=22.3 in c:\\users\\azg526\\anaconda3\\envs\\map\\lib\\site-packages (from jupyter-client<8.0->ipykernel->jupyter-dash) (22.3.0)\n",
      "Requirement already satisfied: python-dateutil>=2.8.2 in c:\\users\\azg526\\anaconda3\\envs\\map\\lib\\site-packages (from jupyter-client<8.0->ipykernel->jupyter-dash) (2.8.2)\n",
      "Requirement already satisfied: entrypoints in c:\\users\\azg526\\anaconda3\\envs\\map\\lib\\site-packages (from jupyter-client<8.0->ipykernel->jupyter-dash) (0.4)\n",
      "Requirement already satisfied: jupyter-core>=4.9.2 in c:\\users\\azg526\\anaconda3\\envs\\map\\lib\\site-packages (from jupyter-client<8.0->ipykernel->jupyter-dash) (4.10.0)\n",
      "Requirement already satisfied: tenacity>=6.2.0 in c:\\users\\azg526\\anaconda3\\envs\\map\\lib\\site-packages (from plotly>=5.0.0->dash->jupyter-dash) (8.0.1)\n",
      "Requirement already satisfied: wcwidth in c:\\users\\azg526\\anaconda3\\envs\\map\\lib\\site-packages (from prompt-toolkit!=3.0.0,!=3.0.1,<3.1.0,>=2.0.0->ipython->jupyter-dash) (0.2.5)\n",
      "Requirement already satisfied: brotli in c:\\users\\azg526\\anaconda3\\envs\\map\\lib\\site-packages (from flask-compress->dash->jupyter-dash) (1.0.9)\n",
      "Requirement already satisfied: pure-eval in c:\\users\\azg526\\anaconda3\\envs\\map\\lib\\site-packages (from stack-data->ipython->jupyter-dash) (0.2.2)\n",
      "Requirement already satisfied: executing in c:\\users\\azg526\\anaconda3\\envs\\map\\lib\\site-packages (from stack-data->ipython->jupyter-dash) (0.8.3)\n",
      "Requirement already satisfied: asttokens in c:\\users\\azg526\\anaconda3\\envs\\map\\lib\\site-packages (from stack-data->ipython->jupyter-dash) (2.0.5)\n",
      "Requirement already satisfied: pywin32>=1.0 in c:\\users\\azg526\\anaconda3\\envs\\map\\lib\\site-packages (from jupyter-core>=4.9.2->jupyter-client<8.0->ipykernel->jupyter-dash) (302)\n"
     ]
    }
   ],
   "source": [
    "pip install jupyter-dash"
   ]
  },
  {
   "cell_type": "code",
   "execution_count": 2,
   "metadata": {},
   "outputs": [
    {
     "ename": "ImportError",
     "evalue": "cannot import name 'ParameterSource' from 'click.core' (C:\\Users\\azg526\\Anaconda3\\envs\\map\\lib\\site-packages\\click\\core.py)",
     "output_type": "error",
     "traceback": [
      "\u001b[1;31m---------------------------------------------------------------------------\u001b[0m",
      "\u001b[1;31mImportError\u001b[0m                               Traceback (most recent call last)",
      "Input \u001b[1;32mIn [2]\u001b[0m, in \u001b[0;36m<cell line: 1>\u001b[1;34m()\u001b[0m\n\u001b[1;32m----> 1\u001b[0m \u001b[38;5;28;01mfrom\u001b[39;00m \u001b[38;5;21;01mdash\u001b[39;00m \u001b[38;5;28;01mimport\u001b[39;00m Dash, html, dcc\n\u001b[0;32m      2\u001b[0m \u001b[38;5;28;01mimport\u001b[39;00m \u001b[38;5;21;01mplotly\u001b[39;00m\u001b[38;5;21;01m.\u001b[39;00m\u001b[38;5;21;01mexpress\u001b[39;00m \u001b[38;5;28;01mas\u001b[39;00m \u001b[38;5;21;01mpx\u001b[39;00m\n\u001b[0;32m      3\u001b[0m \u001b[38;5;28;01mimport\u001b[39;00m \u001b[38;5;21;01mpandas\u001b[39;00m \u001b[38;5;28;01mas\u001b[39;00m \u001b[38;5;21;01mpd\u001b[39;00m\n",
      "File \u001b[1;32m~\\Anaconda3\\envs\\map\\lib\\site-packages\\dash\\__init__.py:5\u001b[0m, in \u001b[0;36m<module>\u001b[1;34m\u001b[0m\n\u001b[0;32m      1\u001b[0m \u001b[38;5;66;03m# pylint: disable=C0413\u001b[39;00m\n\u001b[0;32m      2\u001b[0m \u001b[38;5;66;03m# __plotly_dash is for the \"make sure you don't have a dash.py\" check\u001b[39;00m\n\u001b[0;32m      3\u001b[0m \u001b[38;5;66;03m# must come before any other imports.\u001b[39;00m\n\u001b[0;32m      4\u001b[0m __plotly_dash \u001b[38;5;241m=\u001b[39m \u001b[38;5;28;01mTrue\u001b[39;00m\n\u001b[1;32m----> 5\u001b[0m \u001b[38;5;28;01mfrom\u001b[39;00m \u001b[38;5;21;01m.\u001b[39;00m\u001b[38;5;21;01mdependencies\u001b[39;00m \u001b[38;5;28;01mimport\u001b[39;00m (  \u001b[38;5;66;03m# noqa: F401,E402\u001b[39;00m\n\u001b[0;32m      6\u001b[0m     Input,  \u001b[38;5;66;03m# noqa: F401,E402\u001b[39;00m\n\u001b[0;32m      7\u001b[0m     Output,  \u001b[38;5;66;03m# noqa: F401,E402\u001b[39;00m\n\u001b[0;32m      8\u001b[0m     State,  \u001b[38;5;66;03m# noqa: F401,E402\u001b[39;00m\n\u001b[0;32m      9\u001b[0m     ClientsideFunction,  \u001b[38;5;66;03m# noqa: F401,E402\u001b[39;00m\n\u001b[0;32m     10\u001b[0m     MATCH,  \u001b[38;5;66;03m# noqa: F401,E402\u001b[39;00m\n\u001b[0;32m     11\u001b[0m     ALL,  \u001b[38;5;66;03m# noqa: F401,E402\u001b[39;00m\n\u001b[0;32m     12\u001b[0m     ALLSMALLER,  \u001b[38;5;66;03m# noqa: F401,E402\u001b[39;00m\n\u001b[0;32m     13\u001b[0m )  \u001b[38;5;66;03m# noqa: F401,E402\u001b[39;00m\n\u001b[0;32m     14\u001b[0m \u001b[38;5;28;01mfrom\u001b[39;00m \u001b[38;5;21;01m.\u001b[39;00m \u001b[38;5;28;01mimport\u001b[39;00m development  \u001b[38;5;66;03m# noqa: F401,E402\u001b[39;00m\n\u001b[0;32m     15\u001b[0m \u001b[38;5;28;01mfrom\u001b[39;00m \u001b[38;5;21;01m.\u001b[39;00m \u001b[38;5;28;01mimport\u001b[39;00m exceptions  \u001b[38;5;66;03m# noqa: F401,E402\u001b[39;00m\n",
      "File \u001b[1;32m~\\Anaconda3\\envs\\map\\lib\\site-packages\\dash\\dependencies.py:4\u001b[0m, in \u001b[0;36m<module>\u001b[1;34m\u001b[0m\n\u001b[0;32m      1\u001b[0m \u001b[38;5;28;01mimport\u001b[39;00m \u001b[38;5;21;01mjson\u001b[39;00m\n\u001b[0;32m      2\u001b[0m \u001b[38;5;28;01mfrom\u001b[39;00m \u001b[38;5;21;01mdash\u001b[39;00m\u001b[38;5;21;01m.\u001b[39;00m\u001b[38;5;21;01mdevelopment\u001b[39;00m\u001b[38;5;21;01m.\u001b[39;00m\u001b[38;5;21;01mbase_component\u001b[39;00m \u001b[38;5;28;01mimport\u001b[39;00m Component\n\u001b[1;32m----> 4\u001b[0m \u001b[38;5;28;01mfrom\u001b[39;00m \u001b[38;5;21;01m.\u001b[39;00m\u001b[38;5;21;01m_validate\u001b[39;00m \u001b[38;5;28;01mimport\u001b[39;00m validate_callback\n\u001b[0;32m      5\u001b[0m \u001b[38;5;28;01mfrom\u001b[39;00m \u001b[38;5;21;01m.\u001b[39;00m\u001b[38;5;21;01m_grouping\u001b[39;00m \u001b[38;5;28;01mimport\u001b[39;00m flatten_grouping, make_grouping_by_index\n\u001b[0;32m      8\u001b[0m \u001b[38;5;28;01mclass\u001b[39;00m \u001b[38;5;21;01m_Wildcard\u001b[39;00m:  \u001b[38;5;66;03m# pylint: disable=too-few-public-methods\u001b[39;00m\n",
      "File \u001b[1;32m~\\Anaconda3\\envs\\map\\lib\\site-packages\\dash\\_validate.py:5\u001b[0m, in \u001b[0;36m<module>\u001b[1;34m\u001b[0m\n\u001b[0;32m      3\u001b[0m \u001b[38;5;28;01mfrom\u001b[39;00m \u001b[38;5;21;01mtextwrap\u001b[39;00m \u001b[38;5;28;01mimport\u001b[39;00m dedent\n\u001b[0;32m      4\u001b[0m \u001b[38;5;28;01mfrom\u001b[39;00m \u001b[38;5;21;01mkeyword\u001b[39;00m \u001b[38;5;28;01mimport\u001b[39;00m iskeyword\n\u001b[1;32m----> 5\u001b[0m \u001b[38;5;28;01mimport\u001b[39;00m \u001b[38;5;21;01mflask\u001b[39;00m\n\u001b[0;32m      7\u001b[0m \u001b[38;5;28;01mfrom\u001b[39;00m \u001b[38;5;21;01m.\u001b[39;00m\u001b[38;5;21;01m_grouping\u001b[39;00m \u001b[38;5;28;01mimport\u001b[39;00m grouping_len, map_grouping\n\u001b[0;32m      8\u001b[0m \u001b[38;5;28;01mfrom\u001b[39;00m \u001b[38;5;21;01m.\u001b[39;00m\u001b[38;5;21;01mdevelopment\u001b[39;00m\u001b[38;5;21;01m.\u001b[39;00m\u001b[38;5;21;01mbase_component\u001b[39;00m \u001b[38;5;28;01mimport\u001b[39;00m Component\n",
      "File \u001b[1;32m~\\Anaconda3\\envs\\map\\lib\\site-packages\\flask\\__init__.py:5\u001b[0m, in \u001b[0;36m<module>\u001b[1;34m\u001b[0m\n\u001b[0;32m      2\u001b[0m \u001b[38;5;28;01mfrom\u001b[39;00m \u001b[38;5;21;01mmarkupsafe\u001b[39;00m \u001b[38;5;28;01mimport\u001b[39;00m Markup\n\u001b[0;32m      4\u001b[0m \u001b[38;5;28;01mfrom\u001b[39;00m \u001b[38;5;21;01m.\u001b[39;00m \u001b[38;5;28;01mimport\u001b[39;00m json \u001b[38;5;28;01mas\u001b[39;00m json\n\u001b[1;32m----> 5\u001b[0m \u001b[38;5;28;01mfrom\u001b[39;00m \u001b[38;5;21;01m.\u001b[39;00m\u001b[38;5;21;01mapp\u001b[39;00m \u001b[38;5;28;01mimport\u001b[39;00m Flask \u001b[38;5;28;01mas\u001b[39;00m Flask\n\u001b[0;32m      6\u001b[0m \u001b[38;5;28;01mfrom\u001b[39;00m \u001b[38;5;21;01m.\u001b[39;00m\u001b[38;5;21;01mapp\u001b[39;00m \u001b[38;5;28;01mimport\u001b[39;00m Request \u001b[38;5;28;01mas\u001b[39;00m Request\n\u001b[0;32m      7\u001b[0m \u001b[38;5;28;01mfrom\u001b[39;00m \u001b[38;5;21;01m.\u001b[39;00m\u001b[38;5;21;01mapp\u001b[39;00m \u001b[38;5;28;01mimport\u001b[39;00m Response \u001b[38;5;28;01mas\u001b[39;00m Response\n",
      "File \u001b[1;32m~\\Anaconda3\\envs\\map\\lib\\site-packages\\flask\\app.py:34\u001b[0m, in \u001b[0;36m<module>\u001b[1;34m\u001b[0m\n\u001b[0;32m     31\u001b[0m \u001b[38;5;28;01mfrom\u001b[39;00m \u001b[38;5;21;01mwerkzeug\u001b[39;00m\u001b[38;5;21;01m.\u001b[39;00m\u001b[38;5;21;01mutils\u001b[39;00m \u001b[38;5;28;01mimport\u001b[39;00m redirect \u001b[38;5;28;01mas\u001b[39;00m _wz_redirect\n\u001b[0;32m     32\u001b[0m \u001b[38;5;28;01mfrom\u001b[39;00m \u001b[38;5;21;01mwerkzeug\u001b[39;00m\u001b[38;5;21;01m.\u001b[39;00m\u001b[38;5;21;01mwrappers\u001b[39;00m \u001b[38;5;28;01mimport\u001b[39;00m Response \u001b[38;5;28;01mas\u001b[39;00m BaseResponse\n\u001b[1;32m---> 34\u001b[0m \u001b[38;5;28;01mfrom\u001b[39;00m \u001b[38;5;21;01m.\u001b[39;00m \u001b[38;5;28;01mimport\u001b[39;00m cli\n\u001b[0;32m     35\u001b[0m \u001b[38;5;28;01mfrom\u001b[39;00m \u001b[38;5;21;01m.\u001b[39;00m \u001b[38;5;28;01mimport\u001b[39;00m typing \u001b[38;5;28;01mas\u001b[39;00m ft\n\u001b[0;32m     36\u001b[0m \u001b[38;5;28;01mfrom\u001b[39;00m \u001b[38;5;21;01m.\u001b[39;00m\u001b[38;5;21;01mconfig\u001b[39;00m \u001b[38;5;28;01mimport\u001b[39;00m Config\n",
      "File \u001b[1;32m~\\Anaconda3\\envs\\map\\lib\\site-packages\\flask\\cli.py:15\u001b[0m, in \u001b[0;36m<module>\u001b[1;34m\u001b[0m\n\u001b[0;32m     12\u001b[0m \u001b[38;5;28;01mfrom\u001b[39;00m \u001b[38;5;21;01moperator\u001b[39;00m \u001b[38;5;28;01mimport\u001b[39;00m attrgetter\n\u001b[0;32m     14\u001b[0m \u001b[38;5;28;01mimport\u001b[39;00m \u001b[38;5;21;01mclick\u001b[39;00m\n\u001b[1;32m---> 15\u001b[0m \u001b[38;5;28;01mfrom\u001b[39;00m \u001b[38;5;21;01mclick\u001b[39;00m\u001b[38;5;21;01m.\u001b[39;00m\u001b[38;5;21;01mcore\u001b[39;00m \u001b[38;5;28;01mimport\u001b[39;00m ParameterSource\n\u001b[0;32m     16\u001b[0m \u001b[38;5;28;01mfrom\u001b[39;00m \u001b[38;5;21;01mwerkzeug\u001b[39;00m \u001b[38;5;28;01mimport\u001b[39;00m run_simple\n\u001b[0;32m     17\u001b[0m \u001b[38;5;28;01mfrom\u001b[39;00m \u001b[38;5;21;01mwerkzeug\u001b[39;00m\u001b[38;5;21;01m.\u001b[39;00m\u001b[38;5;21;01mserving\u001b[39;00m \u001b[38;5;28;01mimport\u001b[39;00m is_running_from_reloader\n",
      "\u001b[1;31mImportError\u001b[0m: cannot import name 'ParameterSource' from 'click.core' (C:\\Users\\azg526\\Anaconda3\\envs\\map\\lib\\site-packages\\click\\core.py)"
     ]
    }
   ],
   "source": [
    "from dash import Dash, html, dcc\n",
    "import plotly.express as px\n",
    "import pandas as pd\n"
   ]
  },
  {
   "cell_type": "code",
   "execution_count": null,
   "metadata": {},
   "outputs": [],
   "source": []
  }
 ],
 "metadata": {
  "kernelspec": {
   "display_name": "Python 3 (ipykernel)",
   "language": "python",
   "name": "python3"
  },
  "language_info": {
   "codemirror_mode": {
    "name": "ipython",
    "version": 3
   },
   "file_extension": ".py",
   "mimetype": "text/x-python",
   "name": "python",
   "nbconvert_exporter": "python",
   "pygments_lexer": "ipython3",
   "version": "3.9.13"
  },
  "vscode": {
   "interpreter": {
    "hash": "578617e37275adef76fcc456b2ca705a8678b1783fb8e896c04aa72c1ce7be2e"
   }
  }
 },
 "nbformat": 4,
 "nbformat_minor": 2
}
